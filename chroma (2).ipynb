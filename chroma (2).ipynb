{
 "cells": [
  {
   "cell_type": "code",
   "execution_count": 1,
   "id": "e8d76f22-1df1-4c0c-a815-f17ae20ead56",
   "metadata": {
    "tags": []
   },
   "outputs": [],
   "source": [
    "__import__('pysqlite3')\n",
    "import sys\n",
    "sys.modules['sqlite3'] = sys.modules.pop('pysqlite3')"
   ]
  },
  {
   "cell_type": "code",
   "execution_count": 2,
   "id": "1bc44243-4b20-4871-a7f7-709b4f2190da",
   "metadata": {
    "tags": []
   },
   "outputs": [],
   "source": [
    "import chromadb\n",
    "import pandas as pd"
   ]
  },
  {
   "cell_type": "code",
   "execution_count": 5,
   "id": "625ab5f6-6aa5-431f-9896-b4547074d7b6",
   "metadata": {
    "tags": []
   },
   "outputs": [],
   "source": [
    "#from transformers import BertTokenizer"
   ]
  },
  {
   "cell_type": "code",
   "execution_count": 6,
   "id": "71a178b2-6a1a-4cc8-ac98-4e5cc825ebe0",
   "metadata": {
    "tags": []
   },
   "outputs": [],
   "source": [
    "from openai import AzureOpenAI, BadRequestError\n",
    "from configparser import ConfigParser, ExtendedInterpolation\n",
    "import httpx\n",
    "import concurrent\n",
    "from tqdm import tqdm\n",
    "from tenacity import retry, stop_after_attempt, wait_random_exponential\n",
    "config = ConfigParser(interpolation=ExtendedInterpolation())\n",
    "config.read('./monitor-de-iniciativas/openai/config.ini', 'UTF-8')\n",
    "http_client = httpx.Client(verify='./monitor-de-iniciativas/openai/petrobras-ca-root.pem')\n",
    "client = AzureOpenAI(\n",
    "    api_key=config['OPENAI']['OPENAI_API_KEY'],  \n",
    "    api_version=config['OPENAI']['OPENAI_API_VERSION'],\n",
    "    # azure_endpoint=config['OPENAI']['OPENAI_API_BASE'],\n",
    "    base_url=config['OPENAI']['AZURE_OPENAI_BASE_URL'],\n",
    "    http_client=http_client\n",
    ")"
   ]
  },
  {
   "cell_type": "code",
   "execution_count": 7,
   "id": "76ea8434-7434-4bf8-b99d-7f583c6661f5",
   "metadata": {
    "tags": []
   },
   "outputs": [],
   "source": [
    "import uuid\n",
    "from getpass import getpass\n",
    "import os\n",
    "#from pipeline import client\n",
    "from tenacity import retry, stop_after_attempt, wait_random_exponential\n"
   ]
  },
  {
   "cell_type": "code",
   "execution_count": 8,
   "id": "75e27498-6106-4e2b-bbbc-98e740ed99a4",
   "metadata": {
    "tags": []
   },
   "outputs": [
    {
     "name": "stdin",
     "output_type": "stream",
     "text": [
      "Senha do proxy: ········\n"
     ]
    }
   ],
   "source": [
    "senha = getpass('Senha do proxy:')\n",
    "os.environ['http_proxy'] = 'http://z2aa:' + senha + '@inet-sys.gnet.petrobras.com.br:8080'\n",
    "os.environ['https_proxy'] = 'http://z2aa:' + senha + '@inet-sys.gnet.petrobras.com.br:8080'"
   ]
  },
  {
   "cell_type": "code",
   "execution_count": 9,
   "id": "4afa996d-1f9b-4e41-8c54-791f0abe624c",
   "metadata": {
    "tags": []
   },
   "outputs": [],
   "source": [
    "chromadb_path = \"./chroma_embeddings\"\n",
    "chroma_client = chromadb.PersistentClient(path=chromadb_path)"
   ]
  },
  {
   "cell_type": "code",
   "execution_count": 10,
   "id": "790056e3-a1e6-4ae5-8f68-ef2c3de3a222",
   "metadata": {
    "tags": []
   },
   "outputs": [],
   "source": [
    "collection = chroma_client.create_collection(name=\"testeHelios\")"
   ]
  },
  {
   "cell_type": "code",
   "execution_count": 10,
   "id": "2c60d4a7-54e5-40a2-a644-999a0f36f6b4",
   "metadata": {
    "tags": []
   },
   "outputs": [],
   "source": [
    "#collectionn = chroma_client.get_collection(\"teste2\")"
   ]
  },
  {
   "cell_type": "code",
   "execution_count": 11,
   "id": "5f5d77c2-c8ac-467f-8024-454fae8e36f3",
   "metadata": {
    "tags": []
   },
   "outputs": [],
   "source": [
    "# Split a text into smaller chunks of size n, preferably ending at the end of a sentence\n",
    "def create_chunks(text, n, tokenizer):\n",
    "    \"\"\"Returns successive n-sized chunks from provided text.\"\"\"\n",
    "    tokens = tokenizer.encode(text)\n",
    "    i = 0\n",
    "    while i < len(tokens):\n",
    "        # Find the nearest end of sentence within a range of 0.5 * n and 1.5 * n tokens\n",
    "        j = min(i + int(1.5 * n), len(tokens))\n",
    "        while j > i + int(0.5 * n):\n",
    "            # Decode the tokens and check for full stop or newline\n",
    "            chunk = tokenizer.decode(tokens[i:j])\n",
    "            if chunk.endswith(\".\") or chunk.endswith(\"\\n\"):\n",
    "                break\n",
    "            j -= 1\n",
    "        # If no end of sentence found, use n tokens as the chunk size\n",
    "        if j == i + int(0.5 * n):\n",
    "            j = min(i + n, len(tokens))\n",
    "        yield tokens[i:j]\n",
    "        i = j\n"
   ]
  },
  {
   "cell_type": "code",
   "execution_count": 12,
   "id": "9cfabe38-adcb-4c30-91f8-2252e4bf56b4",
   "metadata": {
    "tags": []
   },
   "outputs": [],
   "source": [
    "@retry(wait=wait_random_exponential(min=10, max=80), stop=stop_after_attempt(10))\n",
    "def get_embedding(text):#(model, text):\n",
    "    \"\"\"Transform a text in a vector using embedding model\"\"\"\n",
    "    embedding = client.embeddings.create(\n",
    "        input=text,\n",
    "        model=\"text-embedding-petrobras\"\n",
    "    )\n",
    "    #embedding = model.encode(text)#, convert_to_tensor=True)\n",
    "    return embedding.data[0].embedding\n",
    "    #return [float(x) for x in list(embedding)]#.data[0].embedding"
   ]
  },
  {
   "cell_type": "code",
   "execution_count": 13,
   "id": "635d4071-691e-43aa-8de0-8b39f52d9e39",
   "metadata": {
    "tags": []
   },
   "outputs": [],
   "source": [
    "def prepare_documents(documents, meta):\n",
    "    \"\"\"Prepare documents to vector database, generating embedding and metadata\"\"\"\n",
    "    embeddings = []\n",
    "    metadatas = []\n",
    "    docs = []\n",
    "    for i, doc in enumerate(documents):\n",
    "        tdoc = tokenizer.decode(doc) #decodifica os tokens do documento usando o objeto tokenizer e armazena o resultado na variável tdoc\n",
    "        docs.append(tdoc)\n",
    "        embeddings.append(get_embedding(tdoc))  #obtem vetor de embedding do documento decodificado tdoc e adiciona o resultado à lista embeddings\n",
    "        metadatas.append({\"title\": meta['titulo'], \"link\":meta['url'], \"partition\" : i}) #adiciona um dicionário contendo as informações de metadados fornecidas (meta['titulo'] e meta['url']) e o índice i à lista metadatas.\n",
    "\n",
    "    return docs, embeddings, metadatas"
   ]
  },
  {
   "cell_type": "code",
   "execution_count": 14,
   "id": "abaee3c6-b91a-42cb-891e-d605b71a85fe",
   "metadata": {
    "tags": []
   },
   "outputs": [],
   "source": [
    "def create_ids(documents):\n",
    "    \"\"\"Create a list of IDs for documents\"\"\"\n",
    "    return [str(uuid.uuid1()) for _ in documents] #gera uma lista de IDs únicos para cada documento\n",
    "\n",
    "def insert_data(documents, embeddings, metadatas, ids): #documents (lista de documentos), embeddings (lista de vetores de embedding), metadatas (lista de metadados) e ids (lista de IDs). \n",
    "    \"\"\"Insert data in a ChromaDB collection\"\"\" #insere os dados na coleção do ChromaDB usando o método add do objeto collection. \n",
    "    collection.add(\n",
    "        embeddings=embeddings,\n",
    "        documents=documents,\n",
    "        metadatas=metadatas,\n",
    "        ids=ids\n",
    "    )\n",
    "    print(f\"Data successfully entered! {len(documents)} Chunks\") #imprime sucesso e o número de chucks inseridos"
   ]
  },
  {
   "cell_type": "code",
   "execution_count": 34,
   "id": "c9365e09-a0c0-48f8-b939-a259aea6995a",
   "metadata": {
    "tags": []
   },
   "outputs": [],
   "source": [
    "def run(df, tokenizer):\n",
    "    print(\"Running prep docs...\")\n",
    "\n",
    "    documents = []\n",
    "    embeddings = []\n",
    "    metadatas = []\n",
    "    for _, row in df.iterrows(): \n",
    "        document = row['texto']\n",
    "        document_chunks = create_chunks(document, 512, tokenizer)\n",
    "        documentlala, document_embeddings, document_metadatas = prepare_documents(document_chunks, row) #preparar as partes do documento, retornando as listas de documentos, vetores de embedding e metadados correspondente\n",
    "        documents.extend(documentlala) #Os documentos resultantes são estendidos nas listas documents\n",
    "        embeddings.extend(document_embeddings)\n",
    "        metadatas.extend(document_metadatas)\n",
    "    \n",
    "    ids = create_ids(documents)\n",
    "    insert_data(documents, embeddings, metadatas, ids) #insere os documentos, vetores de embedding, metadados e IDs na coleção do ChromaDB."
   ]
  },
  {
   "cell_type": "code",
   "execution_count": 35,
   "id": "756016b2-53e7-49da-b873-e1620c4f535a",
   "metadata": {
    "tags": []
   },
   "outputs": [
    {
     "data": {
      "text/html": [
       "<div>\n",
       "<style scoped>\n",
       "    .dataframe tbody tr th:only-of-type {\n",
       "        vertical-align: middle;\n",
       "    }\n",
       "\n",
       "    .dataframe tbody tr th {\n",
       "        vertical-align: top;\n",
       "    }\n",
       "\n",
       "    .dataframe thead th {\n",
       "        text-align: right;\n",
       "    }\n",
       "</style>\n",
       "<table border=\"1\" class=\"dataframe\">\n",
       "  <thead>\n",
       "    <tr style=\"text-align: right;\">\n",
       "      <th></th>\n",
       "      <th>Unnamed: 0</th>\n",
       "      <th>titulo</th>\n",
       "      <th>veiculo</th>\n",
       "      <th>url</th>\n",
       "      <th>data</th>\n",
       "      <th>descricao</th>\n",
       "      <th>texto</th>\n",
       "      <th>rotulo</th>\n",
       "    </tr>\n",
       "  </thead>\n",
       "  <tbody>\n",
       "    <tr>\n",
       "      <th>0</th>\n",
       "      <td>0</td>\n",
       "      <td>Como a mudança climática piorou a seca na Amaz...</td>\n",
       "      <td>ERP</td>\n",
       "      <td>https://epbr.com.br/como-a-mudanca-climatica-p...</td>\n",
       "      <td>25 de janeiro de 2024 - Atualizado em 29 de ja...</td>\n",
       "      <td>Crise climática tornou 30 vezes mais provável ...</td>\n",
       "      <td>Em outubro de 2023, o Rio Madeira, na Amazônia...</td>\n",
       "      <td>Não relacionado</td>\n",
       "    </tr>\n",
       "    <tr>\n",
       "      <th>1</th>\n",
       "      <td>1</td>\n",
       "      <td>Equinor e Galp têm novos clientes no mercado d...</td>\n",
       "      <td>ERP</td>\n",
       "      <td>https://epbr.com.br/equinor-e-galp-tem-novos-c...</td>\n",
       "      <td>20 de fevereiro de 2024 - Atualizado em 21 de ...</td>\n",
       "      <td>Norueguesa começa a vender gás no Centro-Sul, ...</td>\n",
       "      <td>RIO – A exemplo da Shell e da Galp, a Equinor ...</td>\n",
       "      <td>Não relacionado</td>\n",
       "    </tr>\n",
       "    <tr>\n",
       "      <th>2</th>\n",
       "      <td>2</td>\n",
       "      <td>ANP investiga origens do metanol usado na adul...</td>\n",
       "      <td>ERP</td>\n",
       "      <td>https://epbr.com.br/anp-investiga-origens-do-m...</td>\n",
       "      <td>23 de janeiro de 2024 - Atualizado em 26 de ja...</td>\n",
       "      <td>A agência está mapeando mercado do solvente, i...</td>\n",
       "      <td>\" BRASÍLIA — As ações de fiscalização da Agênc...</td>\n",
       "      <td>Não relacionado</td>\n",
       "    </tr>\n",
       "    <tr>\n",
       "      <th>3</th>\n",
       "      <td>3</td>\n",
       "      <td>Brasil registrou recorde de desastres climátic...</td>\n",
       "      <td>ERP</td>\n",
       "      <td>https://epbr.com.br/brasil-registrou-recorde-d...</td>\n",
       "      <td>23 de janeiro de 2024 - Atualizado em 24 de ja...</td>\n",
       "      <td>No ano passado, 1.161 ocorrências foram mapead...</td>\n",
       "      <td>Confirmado pelos cientistas como o ano mais qu...</td>\n",
       "      <td>Não relacionado</td>\n",
       "    </tr>\n",
       "    <tr>\n",
       "      <th>4</th>\n",
       "      <td>4</td>\n",
       "      <td>Preço do petróleo cai e volta a ficar abaixo d...</td>\n",
       "      <td>ERP</td>\n",
       "      <td>https://epbr.com.br/preco-do-petroleo-cai-e-vo...</td>\n",
       "      <td>24 de janeiro de 2024</td>\n",
       "      <td>A queda foi provocada, segundo analistas, pela...</td>\n",
       "      <td>Você vai ver por aqui:  Preço do petróleo cai ...</td>\n",
       "      <td>Não relacionado</td>\n",
       "    </tr>\n",
       "  </tbody>\n",
       "</table>\n",
       "</div>"
      ],
      "text/plain": [
       "   Unnamed: 0                                             titulo veiculo  \\\n",
       "0           0  Como a mudança climática piorou a seca na Amaz...     ERP   \n",
       "1           1  Equinor e Galp têm novos clientes no mercado d...     ERP   \n",
       "2           2  ANP investiga origens do metanol usado na adul...     ERP   \n",
       "3           3  Brasil registrou recorde de desastres climátic...     ERP   \n",
       "4           4  Preço do petróleo cai e volta a ficar abaixo d...     ERP   \n",
       "\n",
       "                                                 url  \\\n",
       "0  https://epbr.com.br/como-a-mudanca-climatica-p...   \n",
       "1  https://epbr.com.br/equinor-e-galp-tem-novos-c...   \n",
       "2  https://epbr.com.br/anp-investiga-origens-do-m...   \n",
       "3  https://epbr.com.br/brasil-registrou-recorde-d...   \n",
       "4  https://epbr.com.br/preco-do-petroleo-cai-e-vo...   \n",
       "\n",
       "                                                data  \\\n",
       "0  25 de janeiro de 2024 - Atualizado em 29 de ja...   \n",
       "1  20 de fevereiro de 2024 - Atualizado em 21 de ...   \n",
       "2  23 de janeiro de 2024 - Atualizado em 26 de ja...   \n",
       "3  23 de janeiro de 2024 - Atualizado em 24 de ja...   \n",
       "4                              24 de janeiro de 2024   \n",
       "\n",
       "                                           descricao  \\\n",
       "0  Crise climática tornou 30 vezes mais provável ...   \n",
       "1  Norueguesa começa a vender gás no Centro-Sul, ...   \n",
       "2  A agência está mapeando mercado do solvente, i...   \n",
       "3  No ano passado, 1.161 ocorrências foram mapead...   \n",
       "4  A queda foi provocada, segundo analistas, pela...   \n",
       "\n",
       "                                               texto           rotulo  \n",
       "0  Em outubro de 2023, o Rio Madeira, na Amazônia...  Não relacionado  \n",
       "1  RIO – A exemplo da Shell e da Galp, a Equinor ...  Não relacionado  \n",
       "2  \" BRASÍLIA — As ações de fiscalização da Agênc...  Não relacionado  \n",
       "3  Confirmado pelos cientistas como o ano mais qu...  Não relacionado  \n",
       "4  Você vai ver por aqui:  Preço do petróleo cai ...  Não relacionado  "
      ]
     },
     "execution_count": 35,
     "metadata": {},
     "output_type": "execute_result"
    }
   ],
   "source": [
    "df = pd.read_excel('EPBR_EXCEL_566.xlsx') #lê um arquivo Excel chamado \"base_traduzida2.xlsx\" e carrega em um DataFrame do Pandas\n",
    "df.head()"
   ]
  },
  {
   "cell_type": "code",
   "execution_count": 36,
   "id": "327a91a4-1199-412c-92cd-7490f634fec8",
   "metadata": {
    "tags": []
   },
   "outputs": [],
   "source": [
    "import tiktoken"
   ]
  },
  {
   "cell_type": "code",
   "execution_count": 37,
   "id": "e9e3e452-d63a-4942-9e51-9b72fb75da4b",
   "metadata": {
    "tags": []
   },
   "outputs": [],
   "source": [
    "#model = SentenceTransformer(\"rufimelo/bert-large-portuguese-cased-sts\")\n",
    "#tokenizer = BertTokenizer.from_pretrained(\"rufimelo/bert-large-portuguese-cased-sts\")\n",
    "tokenizer = tiktoken.encoding_for_model(\"gpt-4-32k-petrobras\")"
   ]
  },
  {
   "cell_type": "code",
   "execution_count": null,
   "id": "295b7cc2-50b4-4e9e-ac91-29e293fcef17",
   "metadata": {
    "tags": []
   },
   "outputs": [
    {
     "name": "stdout",
     "output_type": "stream",
     "text": [
      "Running prep docs...\n"
     ]
    }
   ],
   "source": [
    "run(df, tokenizer)"
   ]
  },
  {
   "cell_type": "code",
   "execution_count": null,
   "id": "1f8c2c0d-2b28-4163-8f15-dbbe32c47a52",
   "metadata": {
    "tags": []
   },
   "outputs": [],
   "source": [
    "def search_document(question):\n",
    "    \"\"\"Search for relevant documents in ChromaDB according to the question\"\"\"\n",
    "    query_embedding = get_embedding(question)\n",
    "    results = collection.query(\n",
    "        query_embeddings=[query_embedding],\n",
    "        n_results=5, include=['distances', 'documents', 'metadatas']\n",
    "    )\n",
    "    return results\n",
    "\n",
    "def format_search_result(relevant_documents):\n",
    "    \"\"\"Auxiliary function to format a list of documents into a string\"\"\"\n",
    "    formatted_list = []    \n",
    "    for i, doc in enumerate(relevant_documents[\"documents\"][0]):\n",
    "        formatted_list.append(\"[{}]:\\n{}\".format(relevant_documents[\"metadatas\"][0][i][\"title\"], doc))\n",
    "    \n",
    "    documents_str = \"\\n\".join(formatted_list)\n",
    "    return documents_str"
   ]
  },
  {
   "cell_type": "code",
   "execution_count": null,
   "id": "38cd8471-b6b4-4e21-8a71-9b59ee114a20",
   "metadata": {
    "scrolled": true,
    "tags": []
   },
   "outputs": [],
   "source": [
    "r = search_document(\"hidrogênio verde\")\n",
    "result_docs = format_search_result(r)\n",
    "print(result_docs)"
   ]
  },
  {
   "cell_type": "code",
   "execution_count": null,
   "id": "14c3df36-c54a-427e-91e5-f9aa70e756c3",
   "metadata": {
    "tags": []
   },
   "outputs": [],
   "source": [
    "question =\"Existiram iniciativas de eólica na Noruega em 2024?\"\n",
    "#, e cite a fonte quando fornecer a informação. \n",
    "r = search_document(question)\n",
    "result_docs = format_search_result(r)\n",
    "prompt = f\"\"\"Voce é um assistente de IA especializado no mercado de energia. Conhece o contexto dos acontecimentos recentes e as tecnologias envolvidas. É prestativo e sucinto nas suas respostas.\n",
    "Os documentos abaixo apresentam as fontes atualizadas e devem ser consideradas como verdade.\n",
    "Utilize-as caso necessário.\n",
    "Documentos:\n",
    "{result_docs}\n",
    "\"\"\""
   ]
  },
  {
   "cell_type": "code",
   "execution_count": null,
   "id": "ba604798-9170-419c-9b26-cf79255c9a15",
   "metadata": {
    "tags": []
   },
   "outputs": [],
   "source": [
    "messages=[\n",
    "  {\"role\": \"system\",\"content\": f\"{prompt}\"},\n",
    "  {\"role\": \"user\",\"content\": f\"{question}\"}\n",
    "]\n",
    "\n",
    "response = client.chat.completions.create(\n",
    "            model=\"gpt-4-32k-petrobras\",\n",
    "            temperature=0.0,\n",
    "            messages=messages\n",
    "        )"
   ]
  },
  {
   "cell_type": "code",
   "execution_count": null,
   "id": "ba48ed7d-d2db-4d0a-aaeb-2e9ac251ebb6",
   "metadata": {
    "tags": []
   },
   "outputs": [],
   "source": [
    "print(question)\n",
    "print()\n",
    "print(prompt)\n",
    "print()\n",
    "print(response.choices[0].message.content)"
   ]
  },
  {
   "cell_type": "code",
   "execution_count": null,
   "id": "a16d23b4-71cd-4398-8b9b-654707ad79f3",
   "metadata": {},
   "outputs": [],
   "source": []
  }
 ],
 "metadata": {
  "kernelspec": {
   "display_name": "petro",
   "language": "python",
   "name": "petro"
  },
  "language_info": {
   "codemirror_mode": {
    "name": "ipython",
    "version": 3
   },
   "file_extension": ".py",
   "mimetype": "text/x-python",
   "name": "python",
   "nbconvert_exporter": "python",
   "pygments_lexer": "ipython3",
   "version": "3.9.13"
  }
 },
 "nbformat": 4,
 "nbformat_minor": 5
}

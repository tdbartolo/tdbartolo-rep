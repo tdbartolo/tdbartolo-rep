{
  "nbformat": 4,
  "nbformat_minor": 0,
  "metadata": {
    "colab": {
      "provenance": [],
      "gpuType": "T4",
      "machine_shape": "hm",
      "authorship_tag": "ABX9TyN2ns5ouf4RraNcEtjZZlqR",
      "include_colab_link": true
    },
    "kernelspec": {
      "name": "python3",
      "display_name": "Python 3"
    },
    "language_info": {
      "name": "python"
    },
    "accelerator": "GPU"
  },
  "cells": [
    {
      "cell_type": "markdown",
      "metadata": {
        "id": "view-in-github",
        "colab_type": "text"
      },
      "source": [
        "<a href=\"https://colab.research.google.com/github/safreitas2000/ml-analytics-mvp/blob/main/BERT_MVP_V06.ipynb\" target=\"_parent\"><img src=\"https://colab.research.google.com/assets/colab-badge.svg\" alt=\"Open In Colab\"/></a>"
      ]
    },
    {
      "cell_type": "markdown",
      "source": [
        "# MVP Disciplina Machine Learning & Analytics - Modelo Deep Learning - MVP Letra b.\n",
        "\n",
        "**b.** Modelo baseado em Deep Learning para resolver problema de Classificação de Texto e Análise de Sentimento em Processamento de Linguagem Natural (PLN).</br>\n",
        "**DataSet:** Amazon Cell Phones Reviews https://www.kaggle.com/datasets/grikomsn/amazon-cell-phones-reviews. É uma base de avaliação de celulares, foi escolhida por questão didática para ilustrar um problema de classificação de texto e análise de sentimento. O dataset possui um conjunto de informações sobre as avaliações, como por exemplo: nome do avaliador, data, utilidade, body e rating. Para o escopo desse trabalho selecionamos 2 atributos do dataset: body e rating, sendo o body a avaliação do celular e o rating uma nota atribuída pelo avaliador que pode variar de 1 até 5, sendo 1 muito ruim e 5 excelente.</br>\n",
        "**Qual é a descrição do problema?** É um problema de classificação de texto e análise de sentimento. Dado o texto de uma avaliação de celular precisamos determinar se a avaliação é positiva ou negativa.</br>\n",
        "**Você tem premissas ou hipóteses sobre o problema? Quais?** Foi observado por amostragem que avaliações 1 e 2 são mais negativas enquanto 4 e 5 mais positivas. Vamos realizar a classificação com 5 classes para avaliação dos resultados, entretanto acredito que transformar o problema em uma classificação binária, para definir se a avaliação é positiva ou negativa deve apresentar uma melhor performance. </br>"
      ],
      "metadata": {
        "id": "WRMtLK4QCqsV"
      }
    },
    {
      "cell_type": "code",
      "source": [
        "!pip install tensorflow-text"
      ],
      "metadata": {
        "colab": {
          "base_uri": "https://localhost:8080/"
        },
        "id": "UU9h8pNVWcKx",
        "outputId": "17f6f5df-c136-4b37-e129-233bc4744bd1"
      },
      "execution_count": 2,
      "outputs": [
        {
          "output_type": "stream",
          "name": "stdout",
          "text": [
            "Collecting tensorflow-text\n",
            "  Downloading tensorflow_text-2.13.0-cp310-cp310-manylinux_2_17_x86_64.manylinux2014_x86_64.whl (6.5 MB)\n",
            "\u001b[2K     \u001b[90m━━━━━━━━━━━━━━━━━━━━━━━━━━━━━━━━━━━━━━━━\u001b[0m \u001b[32m6.5/6.5 MB\u001b[0m \u001b[31m42.0 MB/s\u001b[0m eta \u001b[36m0:00:00\u001b[0m\n",
            "\u001b[?25hRequirement already satisfied: tensorflow-hub>=0.8.0 in /usr/local/lib/python3.10/dist-packages (from tensorflow-text) (0.13.0)\n",
            "Collecting tensorflow<2.14,>=2.13.0 (from tensorflow-text)\n",
            "  Downloading tensorflow-2.13.0-cp310-cp310-manylinux_2_17_x86_64.manylinux2014_x86_64.whl (524.1 MB)\n",
            "\u001b[2K     \u001b[90m━━━━━━━━━━━━━━━━━━━━━━━━━━━━━━━━━━━━━━━\u001b[0m \u001b[32m524.1/524.1 MB\u001b[0m \u001b[31m2.7 MB/s\u001b[0m eta \u001b[36m0:00:00\u001b[0m\n",
            "\u001b[?25hRequirement already satisfied: absl-py>=1.0.0 in /usr/local/lib/python3.10/dist-packages (from tensorflow<2.14,>=2.13.0->tensorflow-text) (1.4.0)\n",
            "Requirement already satisfied: astunparse>=1.6.0 in /usr/local/lib/python3.10/dist-packages (from tensorflow<2.14,>=2.13.0->tensorflow-text) (1.6.3)\n",
            "Requirement already satisfied: flatbuffers>=23.1.21 in /usr/local/lib/python3.10/dist-packages (from tensorflow<2.14,>=2.13.0->tensorflow-text) (23.5.26)\n",
            "Requirement already satisfied: gast<=0.4.0,>=0.2.1 in /usr/local/lib/python3.10/dist-packages (from tensorflow<2.14,>=2.13.0->tensorflow-text) (0.4.0)\n",
            "Requirement already satisfied: google-pasta>=0.1.1 in /usr/local/lib/python3.10/dist-packages (from tensorflow<2.14,>=2.13.0->tensorflow-text) (0.2.0)\n",
            "Requirement already satisfied: grpcio<2.0,>=1.24.3 in /usr/local/lib/python3.10/dist-packages (from tensorflow<2.14,>=2.13.0->tensorflow-text) (1.56.0)\n",
            "Requirement already satisfied: h5py>=2.9.0 in /usr/local/lib/python3.10/dist-packages (from tensorflow<2.14,>=2.13.0->tensorflow-text) (3.8.0)\n",
            "Collecting keras<2.14,>=2.13.1 (from tensorflow<2.14,>=2.13.0->tensorflow-text)\n",
            "  Downloading keras-2.13.1-py3-none-any.whl (1.7 MB)\n",
            "\u001b[2K     \u001b[90m━━━━━━━━━━━━━━━━━━━━━━━━━━━━━━━━━━━━━━━━\u001b[0m \u001b[32m1.7/1.7 MB\u001b[0m \u001b[31m84.0 MB/s\u001b[0m eta \u001b[36m0:00:00\u001b[0m\n",
            "\u001b[?25hRequirement already satisfied: libclang>=13.0.0 in /usr/local/lib/python3.10/dist-packages (from tensorflow<2.14,>=2.13.0->tensorflow-text) (16.0.0)\n",
            "Requirement already satisfied: numpy<=1.24.3,>=1.22 in /usr/local/lib/python3.10/dist-packages (from tensorflow<2.14,>=2.13.0->tensorflow-text) (1.22.4)\n",
            "Requirement already satisfied: opt-einsum>=2.3.2 in /usr/local/lib/python3.10/dist-packages (from tensorflow<2.14,>=2.13.0->tensorflow-text) (3.3.0)\n",
            "Requirement already satisfied: packaging in /usr/local/lib/python3.10/dist-packages (from tensorflow<2.14,>=2.13.0->tensorflow-text) (23.1)\n",
            "Requirement already satisfied: protobuf!=4.21.0,!=4.21.1,!=4.21.2,!=4.21.3,!=4.21.4,!=4.21.5,<5.0.0dev,>=3.20.3 in /usr/local/lib/python3.10/dist-packages (from tensorflow<2.14,>=2.13.0->tensorflow-text) (3.20.3)\n",
            "Requirement already satisfied: setuptools in /usr/local/lib/python3.10/dist-packages (from tensorflow<2.14,>=2.13.0->tensorflow-text) (67.7.2)\n",
            "Requirement already satisfied: six>=1.12.0 in /usr/local/lib/python3.10/dist-packages (from tensorflow<2.14,>=2.13.0->tensorflow-text) (1.16.0)\n",
            "Collecting tensorboard<2.14,>=2.13 (from tensorflow<2.14,>=2.13.0->tensorflow-text)\n",
            "  Downloading tensorboard-2.13.0-py3-none-any.whl (5.6 MB)\n",
            "\u001b[2K     \u001b[90m━━━━━━━━━━━━━━━━━━━━━━━━━━━━━━━━━━━━━━━━\u001b[0m \u001b[32m5.6/5.6 MB\u001b[0m \u001b[31m93.4 MB/s\u001b[0m eta \u001b[36m0:00:00\u001b[0m\n",
            "\u001b[?25hCollecting tensorflow-estimator<2.14,>=2.13.0 (from tensorflow<2.14,>=2.13.0->tensorflow-text)\n",
            "  Downloading tensorflow_estimator-2.13.0-py2.py3-none-any.whl (440 kB)\n",
            "\u001b[2K     \u001b[90m━━━━━━━━━━━━━━━━━━━━━━━━━━━━━━━━━━━━━━\u001b[0m \u001b[32m440.8/440.8 kB\u001b[0m \u001b[31m48.4 MB/s\u001b[0m eta \u001b[36m0:00:00\u001b[0m\n",
            "\u001b[?25hRequirement already satisfied: termcolor>=1.1.0 in /usr/local/lib/python3.10/dist-packages (from tensorflow<2.14,>=2.13.0->tensorflow-text) (2.3.0)\n",
            "Collecting typing-extensions<4.6.0,>=3.6.6 (from tensorflow<2.14,>=2.13.0->tensorflow-text)\n",
            "  Downloading typing_extensions-4.5.0-py3-none-any.whl (27 kB)\n",
            "Requirement already satisfied: wrapt>=1.11.0 in /usr/local/lib/python3.10/dist-packages (from tensorflow<2.14,>=2.13.0->tensorflow-text) (1.14.1)\n",
            "Requirement already satisfied: tensorflow-io-gcs-filesystem>=0.23.1 in /usr/local/lib/python3.10/dist-packages (from tensorflow<2.14,>=2.13.0->tensorflow-text) (0.32.0)\n",
            "Requirement already satisfied: wheel<1.0,>=0.23.0 in /usr/local/lib/python3.10/dist-packages (from astunparse>=1.6.0->tensorflow<2.14,>=2.13.0->tensorflow-text) (0.40.0)\n",
            "Requirement already satisfied: google-auth<3,>=1.6.3 in /usr/local/lib/python3.10/dist-packages (from tensorboard<2.14,>=2.13->tensorflow<2.14,>=2.13.0->tensorflow-text) (2.17.3)\n",
            "Requirement already satisfied: google-auth-oauthlib<1.1,>=0.5 in /usr/local/lib/python3.10/dist-packages (from tensorboard<2.14,>=2.13->tensorflow<2.14,>=2.13.0->tensorflow-text) (1.0.0)\n",
            "Requirement already satisfied: markdown>=2.6.8 in /usr/local/lib/python3.10/dist-packages (from tensorboard<2.14,>=2.13->tensorflow<2.14,>=2.13.0->tensorflow-text) (3.4.3)\n",
            "Requirement already satisfied: requests<3,>=2.21.0 in /usr/local/lib/python3.10/dist-packages (from tensorboard<2.14,>=2.13->tensorflow<2.14,>=2.13.0->tensorflow-text) (2.27.1)\n",
            "Requirement already satisfied: tensorboard-data-server<0.8.0,>=0.7.0 in /usr/local/lib/python3.10/dist-packages (from tensorboard<2.14,>=2.13->tensorflow<2.14,>=2.13.0->tensorflow-text) (0.7.1)\n",
            "Requirement already satisfied: werkzeug>=1.0.1 in /usr/local/lib/python3.10/dist-packages (from tensorboard<2.14,>=2.13->tensorflow<2.14,>=2.13.0->tensorflow-text) (2.3.6)\n",
            "Requirement already satisfied: cachetools<6.0,>=2.0.0 in /usr/local/lib/python3.10/dist-packages (from google-auth<3,>=1.6.3->tensorboard<2.14,>=2.13->tensorflow<2.14,>=2.13.0->tensorflow-text) (5.3.1)\n",
            "Requirement already satisfied: pyasn1-modules>=0.2.1 in /usr/local/lib/python3.10/dist-packages (from google-auth<3,>=1.6.3->tensorboard<2.14,>=2.13->tensorflow<2.14,>=2.13.0->tensorflow-text) (0.3.0)\n",
            "Requirement already satisfied: rsa<5,>=3.1.4 in /usr/local/lib/python3.10/dist-packages (from google-auth<3,>=1.6.3->tensorboard<2.14,>=2.13->tensorflow<2.14,>=2.13.0->tensorflow-text) (4.9)\n",
            "Requirement already satisfied: requests-oauthlib>=0.7.0 in /usr/local/lib/python3.10/dist-packages (from google-auth-oauthlib<1.1,>=0.5->tensorboard<2.14,>=2.13->tensorflow<2.14,>=2.13.0->tensorflow-text) (1.3.1)\n",
            "Requirement already satisfied: urllib3<1.27,>=1.21.1 in /usr/local/lib/python3.10/dist-packages (from requests<3,>=2.21.0->tensorboard<2.14,>=2.13->tensorflow<2.14,>=2.13.0->tensorflow-text) (1.26.16)\n",
            "Requirement already satisfied: certifi>=2017.4.17 in /usr/local/lib/python3.10/dist-packages (from requests<3,>=2.21.0->tensorboard<2.14,>=2.13->tensorflow<2.14,>=2.13.0->tensorflow-text) (2023.5.7)\n",
            "Requirement already satisfied: charset-normalizer~=2.0.0 in /usr/local/lib/python3.10/dist-packages (from requests<3,>=2.21.0->tensorboard<2.14,>=2.13->tensorflow<2.14,>=2.13.0->tensorflow-text) (2.0.12)\n",
            "Requirement already satisfied: idna<4,>=2.5 in /usr/local/lib/python3.10/dist-packages (from requests<3,>=2.21.0->tensorboard<2.14,>=2.13->tensorflow<2.14,>=2.13.0->tensorflow-text) (3.4)\n",
            "Requirement already satisfied: MarkupSafe>=2.1.1 in /usr/local/lib/python3.10/dist-packages (from werkzeug>=1.0.1->tensorboard<2.14,>=2.13->tensorflow<2.14,>=2.13.0->tensorflow-text) (2.1.3)\n",
            "Requirement already satisfied: pyasn1<0.6.0,>=0.4.6 in /usr/local/lib/python3.10/dist-packages (from pyasn1-modules>=0.2.1->google-auth<3,>=1.6.3->tensorboard<2.14,>=2.13->tensorflow<2.14,>=2.13.0->tensorflow-text) (0.5.0)\n",
            "Requirement already satisfied: oauthlib>=3.0.0 in /usr/local/lib/python3.10/dist-packages (from requests-oauthlib>=0.7.0->google-auth-oauthlib<1.1,>=0.5->tensorboard<2.14,>=2.13->tensorflow<2.14,>=2.13.0->tensorflow-text) (3.2.2)\n",
            "Installing collected packages: typing-extensions, tensorflow-estimator, keras, tensorboard, tensorflow, tensorflow-text\n",
            "  Attempting uninstall: typing-extensions\n",
            "    Found existing installation: typing_extensions 4.7.1\n",
            "    Uninstalling typing_extensions-4.7.1:\n",
            "      Successfully uninstalled typing_extensions-4.7.1\n",
            "  Attempting uninstall: tensorflow-estimator\n",
            "    Found existing installation: tensorflow-estimator 2.12.0\n",
            "    Uninstalling tensorflow-estimator-2.12.0:\n",
            "      Successfully uninstalled tensorflow-estimator-2.12.0\n",
            "  Attempting uninstall: keras\n",
            "    Found existing installation: keras 2.12.0\n",
            "    Uninstalling keras-2.12.0:\n",
            "      Successfully uninstalled keras-2.12.0\n",
            "  Attempting uninstall: tensorboard\n",
            "    Found existing installation: tensorboard 2.12.3\n",
            "    Uninstalling tensorboard-2.12.3:\n",
            "      Successfully uninstalled tensorboard-2.12.3\n",
            "  Attempting uninstall: tensorflow\n",
            "    Found existing installation: tensorflow 2.12.0\n",
            "    Uninstalling tensorflow-2.12.0:\n",
            "      Successfully uninstalled tensorflow-2.12.0\n",
            "Successfully installed keras-2.13.1 tensorboard-2.13.0 tensorflow-2.13.0 tensorflow-estimator-2.13.0 tensorflow-text-2.13.0 typing-extensions-4.5.0\n"
          ]
        }
      ]
    },
    {
      "cell_type": "code",
      "execution_count": 3,
      "metadata": {
        "id": "qiAfgit2WTGt"
      },
      "outputs": [],
      "source": [
        "import numpy as np\n",
        "import pandas as pd\n",
        "import pickle\n",
        "import matplotlib.pyplot as plt\n",
        "from sklearn.model_selection import train_test_split\n",
        "import tensorflow as tf\n",
        "from tensorflow import keras\n",
        "from keras.layers import Dense, Dropout\n",
        "import tensorflow_hub as hub\n",
        "import tensorflow_text as text\n",
        "import warnings\n",
        "warnings.filterwarnings(\"ignore\")"
      ]
    },
    {
      "cell_type": "markdown",
      "source": [
        "# Importando DataSet Amazon Cell Phones Reviews.\n",
        "Vamos trabalhar com 2 instâncias do dataset, a primeira para classificação multiclasse (df_mult) e o segundo para classificação binária. O objetivo é comparar a performance das 2 abordagens."
      ],
      "metadata": {
        "id": "8mYg4uPfCpXd"
      }
    },
    {
      "cell_type": "code",
      "source": [
        "# Informa a URL de importação do dataset\n",
        "url = \"https://raw.githubusercontent.com/safreitas2000/ml-analytics-mvp/main/20191226-reviews.csv\"\n",
        "\n",
        "# Lê o arquivo\n",
        "df_mult = pd.read_csv(url, delimiter=',', encoding='latin-1')\n",
        "df_bin = pd.read_csv(url, delimiter=',', encoding='latin-1')\n",
        "\n",
        "df_bin.head(5)"
      ],
      "metadata": {
        "colab": {
          "base_uri": "https://localhost:8080/",
          "height": 206
        },
        "id": "LPNfI-bgW4Ha",
        "outputId": "348c9d3e-01bc-4954-bcd9-dacf13d8b293"
      },
      "execution_count": 4,
      "outputs": [
        {
          "output_type": "execute_result",
          "data": {
            "text/plain": [
              "         asin           name  rating               date  verified  \\\n",
              "0  B0000SX2UC          Janet       3   October 11, 2005     False   \n",
              "1  B0000SX2UC     Luke Wyatt       1    January 7, 2004     False   \n",
              "2  B0000SX2UC         Brooke       5  December 30, 2003     False   \n",
              "3  B0000SX2UC  amy m. teague       3     March 18, 2004     False   \n",
              "4  B0000SX2UC  tristazbimmer       4    August 28, 2005     False   \n",
              "\n",
              "                                          title  \\\n",
              "0                   Def not best, but not worst   \n",
              "1                   Text Messaging Doesn't Work   \n",
              "2                               Love This Phone   \n",
              "3                       Love the Phone, BUT...!   \n",
              "4  Great phone service and options, lousy case!   \n",
              "\n",
              "                                                body  helpfulVotes  \n",
              "0  I had the Samsung A600 for awhile which is abs...           1.0  \n",
              "1  Due to a software issue between Nokia and Spri...          17.0  \n",
              "2  This is a great, reliable phone. I also purcha...           5.0  \n",
              "3  I love the phone and all, because I really did...           1.0  \n",
              "4  The phone has been great for every purpose it ...           1.0  "
            ],
            "text/html": [
              "\n",
              "\n",
              "  <div id=\"df-9b44fb2e-30ef-49ee-94a5-0bd64efe0d58\">\n",
              "    <div class=\"colab-df-container\">\n",
              "      <div>\n",
              "<style scoped>\n",
              "    .dataframe tbody tr th:only-of-type {\n",
              "        vertical-align: middle;\n",
              "    }\n",
              "\n",
              "    .dataframe tbody tr th {\n",
              "        vertical-align: top;\n",
              "    }\n",
              "\n",
              "    .dataframe thead th {\n",
              "        text-align: right;\n",
              "    }\n",
              "</style>\n",
              "<table border=\"1\" class=\"dataframe\">\n",
              "  <thead>\n",
              "    <tr style=\"text-align: right;\">\n",
              "      <th></th>\n",
              "      <th>asin</th>\n",
              "      <th>name</th>\n",
              "      <th>rating</th>\n",
              "      <th>date</th>\n",
              "      <th>verified</th>\n",
              "      <th>title</th>\n",
              "      <th>body</th>\n",
              "      <th>helpfulVotes</th>\n",
              "    </tr>\n",
              "  </thead>\n",
              "  <tbody>\n",
              "    <tr>\n",
              "      <th>0</th>\n",
              "      <td>B0000SX2UC</td>\n",
              "      <td>Janet</td>\n",
              "      <td>3</td>\n",
              "      <td>October 11, 2005</td>\n",
              "      <td>False</td>\n",
              "      <td>Def not best, but not worst</td>\n",
              "      <td>I had the Samsung A600 for awhile which is abs...</td>\n",
              "      <td>1.0</td>\n",
              "    </tr>\n",
              "    <tr>\n",
              "      <th>1</th>\n",
              "      <td>B0000SX2UC</td>\n",
              "      <td>Luke Wyatt</td>\n",
              "      <td>1</td>\n",
              "      <td>January 7, 2004</td>\n",
              "      <td>False</td>\n",
              "      <td>Text Messaging Doesn't Work</td>\n",
              "      <td>Due to a software issue between Nokia and Spri...</td>\n",
              "      <td>17.0</td>\n",
              "    </tr>\n",
              "    <tr>\n",
              "      <th>2</th>\n",
              "      <td>B0000SX2UC</td>\n",
              "      <td>Brooke</td>\n",
              "      <td>5</td>\n",
              "      <td>December 30, 2003</td>\n",
              "      <td>False</td>\n",
              "      <td>Love This Phone</td>\n",
              "      <td>This is a great, reliable phone. I also purcha...</td>\n",
              "      <td>5.0</td>\n",
              "    </tr>\n",
              "    <tr>\n",
              "      <th>3</th>\n",
              "      <td>B0000SX2UC</td>\n",
              "      <td>amy m. teague</td>\n",
              "      <td>3</td>\n",
              "      <td>March 18, 2004</td>\n",
              "      <td>False</td>\n",
              "      <td>Love the Phone, BUT...!</td>\n",
              "      <td>I love the phone and all, because I really did...</td>\n",
              "      <td>1.0</td>\n",
              "    </tr>\n",
              "    <tr>\n",
              "      <th>4</th>\n",
              "      <td>B0000SX2UC</td>\n",
              "      <td>tristazbimmer</td>\n",
              "      <td>4</td>\n",
              "      <td>August 28, 2005</td>\n",
              "      <td>False</td>\n",
              "      <td>Great phone service and options, lousy case!</td>\n",
              "      <td>The phone has been great for every purpose it ...</td>\n",
              "      <td>1.0</td>\n",
              "    </tr>\n",
              "  </tbody>\n",
              "</table>\n",
              "</div>\n",
              "      <button class=\"colab-df-convert\" onclick=\"convertToInteractive('df-9b44fb2e-30ef-49ee-94a5-0bd64efe0d58')\"\n",
              "              title=\"Convert this dataframe to an interactive table.\"\n",
              "              style=\"display:none;\">\n",
              "\n",
              "  <svg xmlns=\"http://www.w3.org/2000/svg\" height=\"24px\"viewBox=\"0 0 24 24\"\n",
              "       width=\"24px\">\n",
              "    <path d=\"M0 0h24v24H0V0z\" fill=\"none\"/>\n",
              "    <path d=\"M18.56 5.44l.94 2.06.94-2.06 2.06-.94-2.06-.94-.94-2.06-.94 2.06-2.06.94zm-11 1L8.5 8.5l.94-2.06 2.06-.94-2.06-.94L8.5 2.5l-.94 2.06-2.06.94zm10 10l.94 2.06.94-2.06 2.06-.94-2.06-.94-.94-2.06-.94 2.06-2.06.94z\"/><path d=\"M17.41 7.96l-1.37-1.37c-.4-.4-.92-.59-1.43-.59-.52 0-1.04.2-1.43.59L10.3 9.45l-7.72 7.72c-.78.78-.78 2.05 0 2.83L4 21.41c.39.39.9.59 1.41.59.51 0 1.02-.2 1.41-.59l7.78-7.78 2.81-2.81c.8-.78.8-2.07 0-2.86zM5.41 20L4 18.59l7.72-7.72 1.47 1.35L5.41 20z\"/>\n",
              "  </svg>\n",
              "      </button>\n",
              "\n",
              "\n",
              "\n",
              "    <div id=\"df-0d2249d8-e4c0-4105-84b6-fc77f6e8f4f1\">\n",
              "      <button class=\"colab-df-quickchart\" onclick=\"quickchart('df-0d2249d8-e4c0-4105-84b6-fc77f6e8f4f1')\"\n",
              "              title=\"Suggest charts.\"\n",
              "              style=\"display:none;\">\n",
              "\n",
              "<svg xmlns=\"http://www.w3.org/2000/svg\" height=\"24px\"viewBox=\"0 0 24 24\"\n",
              "     width=\"24px\">\n",
              "    <g>\n",
              "        <path d=\"M19 3H5c-1.1 0-2 .9-2 2v14c0 1.1.9 2 2 2h14c1.1 0 2-.9 2-2V5c0-1.1-.9-2-2-2zM9 17H7v-7h2v7zm4 0h-2V7h2v10zm4 0h-2v-4h2v4z\"/>\n",
              "    </g>\n",
              "</svg>\n",
              "      </button>\n",
              "    </div>\n",
              "\n",
              "<style>\n",
              "  .colab-df-quickchart {\n",
              "    background-color: #E8F0FE;\n",
              "    border: none;\n",
              "    border-radius: 50%;\n",
              "    cursor: pointer;\n",
              "    display: none;\n",
              "    fill: #1967D2;\n",
              "    height: 32px;\n",
              "    padding: 0 0 0 0;\n",
              "    width: 32px;\n",
              "  }\n",
              "\n",
              "  .colab-df-quickchart:hover {\n",
              "    background-color: #E2EBFA;\n",
              "    box-shadow: 0px 1px 2px rgba(60, 64, 67, 0.3), 0px 1px 3px 1px rgba(60, 64, 67, 0.15);\n",
              "    fill: #174EA6;\n",
              "  }\n",
              "\n",
              "  [theme=dark] .colab-df-quickchart {\n",
              "    background-color: #3B4455;\n",
              "    fill: #D2E3FC;\n",
              "  }\n",
              "\n",
              "  [theme=dark] .colab-df-quickchart:hover {\n",
              "    background-color: #434B5C;\n",
              "    box-shadow: 0px 1px 3px 1px rgba(0, 0, 0, 0.15);\n",
              "    filter: drop-shadow(0px 1px 2px rgba(0, 0, 0, 0.3));\n",
              "    fill: #FFFFFF;\n",
              "  }\n",
              "</style>\n",
              "\n",
              "    <script>\n",
              "      async function quickchart(key) {\n",
              "        const containerElement = document.querySelector('#' + key);\n",
              "        const charts = await google.colab.kernel.invokeFunction(\n",
              "            'suggestCharts', [key], {});\n",
              "      }\n",
              "    </script>\n",
              "\n",
              "      <script>\n",
              "\n",
              "function displayQuickchartButton(domScope) {\n",
              "  let quickchartButtonEl =\n",
              "    domScope.querySelector('#df-0d2249d8-e4c0-4105-84b6-fc77f6e8f4f1 button.colab-df-quickchart');\n",
              "  quickchartButtonEl.style.display =\n",
              "    google.colab.kernel.accessAllowed ? 'block' : 'none';\n",
              "}\n",
              "\n",
              "        displayQuickchartButton(document);\n",
              "      </script>\n",
              "      <style>\n",
              "    .colab-df-container {\n",
              "      display:flex;\n",
              "      flex-wrap:wrap;\n",
              "      gap: 12px;\n",
              "    }\n",
              "\n",
              "    .colab-df-convert {\n",
              "      background-color: #E8F0FE;\n",
              "      border: none;\n",
              "      border-radius: 50%;\n",
              "      cursor: pointer;\n",
              "      display: none;\n",
              "      fill: #1967D2;\n",
              "      height: 32px;\n",
              "      padding: 0 0 0 0;\n",
              "      width: 32px;\n",
              "    }\n",
              "\n",
              "    .colab-df-convert:hover {\n",
              "      background-color: #E2EBFA;\n",
              "      box-shadow: 0px 1px 2px rgba(60, 64, 67, 0.3), 0px 1px 3px 1px rgba(60, 64, 67, 0.15);\n",
              "      fill: #174EA6;\n",
              "    }\n",
              "\n",
              "    [theme=dark] .colab-df-convert {\n",
              "      background-color: #3B4455;\n",
              "      fill: #D2E3FC;\n",
              "    }\n",
              "\n",
              "    [theme=dark] .colab-df-convert:hover {\n",
              "      background-color: #434B5C;\n",
              "      box-shadow: 0px 1px 3px 1px rgba(0, 0, 0, 0.15);\n",
              "      filter: drop-shadow(0px 1px 2px rgba(0, 0, 0, 0.3));\n",
              "      fill: #FFFFFF;\n",
              "    }\n",
              "  </style>\n",
              "\n",
              "      <script>\n",
              "        const buttonEl =\n",
              "          document.querySelector('#df-9b44fb2e-30ef-49ee-94a5-0bd64efe0d58 button.colab-df-convert');\n",
              "        buttonEl.style.display =\n",
              "          google.colab.kernel.accessAllowed ? 'block' : 'none';\n",
              "\n",
              "        async function convertToInteractive(key) {\n",
              "          const element = document.querySelector('#df-9b44fb2e-30ef-49ee-94a5-0bd64efe0d58');\n",
              "          const dataTable =\n",
              "            await google.colab.kernel.invokeFunction('convertToInteractive',\n",
              "                                                     [key], {});\n",
              "          if (!dataTable) return;\n",
              "\n",
              "          const docLinkHtml = 'Like what you see? Visit the ' +\n",
              "            '<a target=\"_blank\" href=https://colab.research.google.com/notebooks/data_table.ipynb>data table notebook</a>'\n",
              "            + ' to learn more about interactive tables.';\n",
              "          element.innerHTML = '';\n",
              "          dataTable['output_type'] = 'display_data';\n",
              "          await google.colab.output.renderOutput(dataTable, element);\n",
              "          const docLink = document.createElement('div');\n",
              "          docLink.innerHTML = docLinkHtml;\n",
              "          element.appendChild(docLink);\n",
              "        }\n",
              "      </script>\n",
              "    </div>\n",
              "  </div>\n"
            ]
          },
          "metadata": {},
          "execution_count": 4
        }
      ]
    },
    {
      "cell_type": "markdown",
      "source": [
        "# Preparação e pre-processamento dos Dados\n",
        "Realizamos algumas operações para simplificação dos dados e adequação antes de submeter para  pre-processamento e treinamento.\n",
        "*   Vamos trabalhar com um subconjunto de 10.000 registros\n",
        "*   Para o dataset utilizado na classificação binária vamos adaptar a coluna \"rating\" da seguinte forma: os valores 1 e 2 vão ser transformados em \"0\", os valores 4 e 5 serão convertidos em \"1\" e o valor 3 \"None\".\n",
        "*   Remover as linhas que contêm valores ausentes (NaN)\n",
        "*   Redefinir os índices do DataFrame após a remoção das linhas com valores ausentes.\n",
        "*   Remove caracteres especiais não reconhecidos, usando encode e decode entre os padrões ASCII e UTF-8\n",
        "*   Seleciona somente as colunas \"Body\" e \"Rating\" que vão ser parte do escopo do trabalho."
      ],
      "metadata": {
        "id": "B7vgxA1aDUpb"
      }
    },
    {
      "cell_type": "code",
      "source": [
        "df_mult = df_mult.head(10000)\n",
        "df_bin = df_bin.head(10000)"
      ],
      "metadata": {
        "id": "_IsbuUmfqyvA"
      },
      "execution_count": 5,
      "outputs": []
    },
    {
      "cell_type": "code",
      "source": [
        "mapping={1:0,2:0,3:None,4:1,5:1}\n",
        "df_bin.rating=df_bin.rating.map(mapping)\n",
        "df_bin=df_bin.dropna(subset='rating')"
      ],
      "metadata": {
        "id": "OcZif7m8spHL"
      },
      "execution_count": 6,
      "outputs": []
    },
    {
      "cell_type": "code",
      "source": [
        "df_mult = df_mult.dropna()\n",
        "df_mult = df_mult.reset_index(drop=True)\n",
        "\n",
        "df_bin = df_bin.dropna()\n",
        "df_bin = df_bin.reset_index(drop=True)"
      ],
      "metadata": {
        "id": "WM9aUdZ24YGS"
      },
      "execution_count": 7,
      "outputs": []
    },
    {
      "cell_type": "code",
      "source": [
        "#import re\n",
        "#df_bin[\"rating\"] = df_bin[\"rating\"].astype(int)\n",
        "#df_mult[\"rating\"] = df_mult[\"rating\"].astype(int)"
      ],
      "metadata": {
        "id": "YXQh_-zWXXjH"
      },
      "execution_count": 8,
      "outputs": []
    },
    {
      "cell_type": "code",
      "source": [
        "rat_bin=df_bin.rating.value_counts()\n",
        "rat_mult=df_mult.rating.value_counts()"
      ],
      "metadata": {
        "id": "95iqbJxEXOmE"
      },
      "execution_count": 9,
      "outputs": []
    },
    {
      "cell_type": "code",
      "source": [
        "import matplotlib.pyplot as plt\n",
        "\n",
        "# Criação da grade de subplots\n",
        "fig, axes = plt.subplots(1, 2, figsize=(10, 5))\n",
        "\n",
        "# Plotagem do primeiro gráfico\n",
        "axes[0].bar(rat_bin.index, rat_bin.values)\n",
        "axes[0].set_xticks(rat_bin.index)\n",
        "axes[0].set_xlabel('Target')\n",
        "axes[0].set_ylabel('Values')\n",
        "axes[0].set_title('Classificação Binária')\n",
        "\n",
        "# Plotagem do segundo gráfico\n",
        "axes[1].bar(rat_mult.index, rat_mult.values)\n",
        "axes[1].set_xlabel('Target')\n",
        "axes[1].set_ylabel('Values')\n",
        "axes[1].set_title('Classificação Multiclasse')\n",
        "\n",
        "# Ajuste de layout e exibição dos gráficos\n",
        "plt.tight_layout()\n",
        "plt.show()"
      ],
      "metadata": {
        "colab": {
          "base_uri": "https://localhost:8080/",
          "height": 507
        },
        "id": "FqTxzTS_Wvck",
        "outputId": "729392a7-6b44-42d3-f0eb-9ca61c47bd15"
      },
      "execution_count": 10,
      "outputs": [
        {
          "output_type": "display_data",
          "data": {
            "text/plain": [
              "<Figure size 1000x500 with 2 Axes>"
            ],
            "image/png": "[encoded data removed]"
          },
          "metadata": {}
        }
      ]
    },
    {
      "cell_type": "code",
      "source": [
        "df_bin.loc[:, \"body\"] = df_bin[\"body\"].str.encode(\"ascii\", \"ignore\").str.decode(\"utf-8\")\n",
        "df_bin.loc[:, \"body\"] = df_mult[\"body\"].str.encode(\"ascii\", \"ignore\").str.decode(\"utf-8\")"
      ],
      "metadata": {
        "id": "2jueuuQNYH4f"
      },
      "execution_count": 11,
      "outputs": []
    },
    {
      "cell_type": "code",
      "source": [
        "df_bin = df_bin[[\"body\", \"rating\"]]\n",
        "df_mult = df_mult[[\"body\", \"rating\"]]\n",
        "df_mult.loc[:, \"rating\"] = df_mult[\"rating\"].astype(float)"
      ],
      "metadata": {
        "id": "Qsl5zOCiYLqR"
      },
      "execution_count": 12,
      "outputs": []
    },
    {
      "cell_type": "code",
      "source": [
        "df_mult.head(10)"
      ],
      "metadata": {
        "colab": {
          "base_uri": "https://localhost:8080/",
          "height": 363
        },
        "id": "-oenB4TZYN12",
        "outputId": "723be3e9-a39f-450b-ad0d-33cfc8e3a716"
      },
      "execution_count": 13,
      "outputs": [
        {
          "output_type": "execute_result",
          "data": {
            "text/plain": [
              "                                                body  rating\n",
              "0  I had the Samsung A600 for awhile which is abs...     3.0\n",
              "1  Due to a software issue between Nokia and Spri...     1.0\n",
              "2  This is a great, reliable phone. I also purcha...     5.0\n",
              "3  I love the phone and all, because I really did...     3.0\n",
              "4  The phone has been great for every purpose it ...     4.0\n",
              "5  Cool. Cheap. Color: 3 words that describe the ...     5.0\n",
              "6  The 3599i is overall a nice phone, except that...     4.0\n",
              "7  I've never owned a Nokia phone before, so this...     5.0\n",
              "8  ok well im in school and i need the text messa...     3.0\n",
              "9  I've had this phone for over a year and I real...     4.0"
            ],
            "text/html": [
              "\n",
              "\n",
              "  <div id=\"df-c33630d3-4210-4960-ab30-cbf5fbc2f743\">\n",
              "    <div class=\"colab-df-container\">\n",
              "      <div>\n",
              "<style scoped>\n",
              "    .dataframe tbody tr th:only-of-type {\n",
              "        vertical-align: middle;\n",
              "    }\n",
              "\n",
              "    .dataframe tbody tr th {\n",
              "        vertical-align: top;\n",
              "    }\n",
              "\n",
              "    .dataframe thead th {\n",
              "        text-align: right;\n",
              "    }\n",
              "</style>\n",
              "<table border=\"1\" class=\"dataframe\">\n",
              "  <thead>\n",
              "    <tr style=\"text-align: right;\">\n",
              "      <th></th>\n",
              "      <th>body</th>\n",
              "      <th>rating</th>\n",
              "    </tr>\n",
              "  </thead>\n",
              "  <tbody>\n",
              "    <tr>\n",
              "      <th>0</th>\n",
              "      <td>I had the Samsung A600 for awhile which is abs...</td>\n",
              "      <td>3.0</td>\n",
              "    </tr>\n",
              "    <tr>\n",
              "      <th>1</th>\n",
              "      <td>Due to a software issue between Nokia and Spri...</td>\n",
              "      <td>1.0</td>\n",
              "    </tr>\n",
              "    <tr>\n",
              "      <th>2</th>\n",
              "      <td>This is a great, reliable phone. I also purcha...</td>\n",
              "      <td>5.0</td>\n",
              "    </tr>\n",
              "    <tr>\n",
              "      <th>3</th>\n",
              "      <td>I love the phone and all, because I really did...</td>\n",
              "      <td>3.0</td>\n",
              "    </tr>\n",
              "    <tr>\n",
              "      <th>4</th>\n",
              "      <td>The phone has been great for every purpose it ...</td>\n",
              "      <td>4.0</td>\n",
              "    </tr>\n",
              "    <tr>\n",
              "      <th>5</th>\n",
              "      <td>Cool. Cheap. Color: 3 words that describe the ...</td>\n",
              "      <td>5.0</td>\n",
              "    </tr>\n",
              "    <tr>\n",
              "      <th>6</th>\n",
              "      <td>The 3599i is overall a nice phone, except that...</td>\n",
              "      <td>4.0</td>\n",
              "    </tr>\n",
              "    <tr>\n",
              "      <th>7</th>\n",
              "      <td>I've never owned a Nokia phone before, so this...</td>\n",
              "      <td>5.0</td>\n",
              "    </tr>\n",
              "    <tr>\n",
              "      <th>8</th>\n",
              "      <td>ok well im in school and i need the text messa...</td>\n",
              "      <td>3.0</td>\n",
              "    </tr>\n",
              "    <tr>\n",
              "      <th>9</th>\n",
              "      <td>I've had this phone for over a year and I real...</td>\n",
              "      <td>4.0</td>\n",
              "    </tr>\n",
              "  </tbody>\n",
              "</table>\n",
              "</div>\n",
              "      <button class=\"colab-df-convert\" onclick=\"convertToInteractive('df-c33630d3-4210-4960-ab30-cbf5fbc2f743')\"\n",
              "              title=\"Convert this dataframe to an interactive table.\"\n",
              "              style=\"display:none;\">\n",
              "\n",
              "  <svg xmlns=\"http://www.w3.org/2000/svg\" height=\"24px\"viewBox=\"0 0 24 24\"\n",
              "       width=\"24px\">\n",
              "    <path d=\"M0 0h24v24H0V0z\" fill=\"none\"/>\n",
              "    <path d=\"M18.56 5.44l.94 2.06.94-2.06 2.06-.94-2.06-.94-.94-2.06-.94 2.06-2.06.94zm-11 1L8.5 8.5l.94-2.06 2.06-.94-2.06-.94L8.5 2.5l-.94 2.06-2.06.94zm10 10l.94 2.06.94-2.06 2.06-.94-2.06-.94-.94-2.06-.94 2.06-2.06.94z\"/><path d=\"M17.41 7.96l-1.37-1.37c-.4-.4-.92-.59-1.43-.59-.52 0-1.04.2-1.43.59L10.3 9.45l-7.72 7.72c-.78.78-.78 2.05 0 2.83L4 21.41c.39.39.9.59 1.41.59.51 0 1.02-.2 1.41-.59l7.78-7.78 2.81-2.81c.8-.78.8-2.07 0-2.86zM5.41 20L4 18.59l7.72-7.72 1.47 1.35L5.41 20z\"/>\n",
              "  </svg>\n",
              "      </button>\n",
              "\n",
              "\n",
              "\n",
              "    <div id=\"df-2944f8f8-c678-4acb-9b15-1fd3de8fb7ad\">\n",
              "      <button class=\"colab-df-quickchart\" onclick=\"quickchart('df-2944f8f8-c678-4acb-9b15-1fd3de8fb7ad')\"\n",
              "              title=\"Suggest charts.\"\n",
              "              style=\"display:none;\">\n",
              "\n",
              "<svg xmlns=\"http://www.w3.org/2000/svg\" height=\"24px\"viewBox=\"0 0 24 24\"\n",
              "     width=\"24px\">\n",
              "    <g>\n",
              "        <path d=\"M19 3H5c-1.1 0-2 .9-2 2v14c0 1.1.9 2 2 2h14c1.1 0 2-.9 2-2V5c0-1.1-.9-2-2-2zM9 17H7v-7h2v7zm4 0h-2V7h2v10zm4 0h-2v-4h2v4z\"/>\n",
              "    </g>\n",
              "</svg>\n",
              "      </button>\n",
              "    </div>\n",
              "\n",
              "<style>\n",
              "  .colab-df-quickchart {\n",
              "    background-color: #E8F0FE;\n",
              "    border: none;\n",
              "    border-radius: 50%;\n",
              "    cursor: pointer;\n",
              "    display: none;\n",
              "    fill: #1967D2;\n",
              "    height: 32px;\n",
              "    padding: 0 0 0 0;\n",
              "    width: 32px;\n",
              "  }\n",
              "\n",
              "  .colab-df-quickchart:hover {\n",
              "    background-color: #E2EBFA;\n",
              "    box-shadow: 0px 1px 2px rgba(60, 64, 67, 0.3), 0px 1px 3px 1px rgba(60, 64, 67, 0.15);\n",
              "    fill: #174EA6;\n",
              "  }\n",
              "\n",
              "  [theme=dark] .colab-df-quickchart {\n",
              "    background-color: #3B4455;\n",
              "    fill: #D2E3FC;\n",
              "  }\n",
              "\n",
              "  [theme=dark] .colab-df-quickchart:hover {\n",
              "    background-color: #434B5C;\n",
              "    box-shadow: 0px 1px 3px 1px rgba(0, 0, 0, 0.15);\n",
              "    filter: drop-shadow(0px 1px 2px rgba(0, 0, 0, 0.3));\n",
              "    fill: #FFFFFF;\n",
              "  }\n",
              "</style>\n",
              "\n",
              "    <script>\n",
              "      async function quickchart(key) {\n",
              "        const containerElement = document.querySelector('#' + key);\n",
              "        const charts = await google.colab.kernel.invokeFunction(\n",
              "            'suggestCharts', [key], {});\n",
              "      }\n",
              "    </script>\n",
              "\n",
              "      <script>\n",
              "\n",
              "function displayQuickchartButton(domScope) {\n",
              "  let quickchartButtonEl =\n",
              "    domScope.querySelector('#df-2944f8f8-c678-4acb-9b15-1fd3de8fb7ad button.colab-df-quickchart');\n",
              "  quickchartButtonEl.style.display =\n",
              "    google.colab.kernel.accessAllowed ? 'block' : 'none';\n",
              "}\n",
              "\n",
              "        displayQuickchartButton(document);\n",
              "      </script>\n",
              "      <style>\n",
              "    .colab-df-container {\n",
              "      display:flex;\n",
              "      flex-wrap:wrap;\n",
              "      gap: 12px;\n",
              "    }\n",
              "\n",
              "    .colab-df-convert {\n",
              "      background-color: #E8F0FE;\n",
              "      border: none;\n",
              "      border-radius: 50%;\n",
              "      cursor: pointer;\n",
              "      display: none;\n",
              "      fill: #1967D2;\n",
              "      height: 32px;\n",
              "      padding: 0 0 0 0;\n",
              "      width: 32px;\n",
              "    }\n",
              "\n",
              "    .colab-df-convert:hover {\n",
              "      background-color: #E2EBFA;\n",
              "      box-shadow: 0px 1px 2px rgba(60, 64, 67, 0.3), 0px 1px 3px 1px rgba(60, 64, 67, 0.15);\n",
              "      fill: #174EA6;\n",
              "    }\n",
              "\n",
              "    [theme=dark] .colab-df-convert {\n",
              "      background-color: #3B4455;\n",
              "      fill: #D2E3FC;\n",
              "    }\n",
              "\n",
              "    [theme=dark] .colab-df-convert:hover {\n",
              "      background-color: #434B5C;\n",
              "      box-shadow: 0px 1px 3px 1px rgba(0, 0, 0, 0.15);\n",
              "      filter: drop-shadow(0px 1px 2px rgba(0, 0, 0, 0.3));\n",
              "      fill: #FFFFFF;\n",
              "    }\n",
              "  </style>\n",
              "\n",
              "      <script>\n",
              "        const buttonEl =\n",
              "          document.querySelector('#df-c33630d3-4210-4960-ab30-cbf5fbc2f743 button.colab-df-convert');\n",
              "        buttonEl.style.display =\n",
              "          google.colab.kernel.accessAllowed ? 'block' : 'none';\n",
              "\n",
              "        async function convertToInteractive(key) {\n",
              "          const element = document.querySelector('#df-c33630d3-4210-4960-ab30-cbf5fbc2f743');\n",
              "          const dataTable =\n",
              "            await google.colab.kernel.invokeFunction('convertToInteractive',\n",
              "                                                     [key], {});\n",
              "          if (!dataTable) return;\n",
              "\n",
              "          const docLinkHtml = 'Like what you see? Visit the ' +\n",
              "            '<a target=\"_blank\" href=https://colab.research.google.com/notebooks/data_table.ipynb>data table notebook</a>'\n",
              "            + ' to learn more about interactive tables.';\n",
              "          element.innerHTML = '';\n",
              "          dataTable['output_type'] = 'display_data';\n",
              "          await google.colab.output.renderOutput(dataTable, element);\n",
              "          const docLink = document.createElement('div');\n",
              "          docLink.innerHTML = docLinkHtml;\n",
              "          element.appendChild(docLink);\n",
              "        }\n",
              "      </script>\n",
              "    </div>\n",
              "  </div>\n"
            ]
          },
          "metadata": {},
          "execution_count": 13
        }
      ]
    },
    {
      "cell_type": "markdown",
      "source": [
        "# Separação em base de treino e teste"
      ],
      "metadata": {
        "id": "oItu2BZdEXnJ"
      }
    },
    {
      "cell_type": "code",
      "source": [
        "X_train, X_test, y_train, y_test = train_test_split(df_bin.body,df_bin.rating,test_size=0.2)\n",
        "R_train, R_test, t_train, t_test = train_test_split(df_mult.body,df_mult.rating,test_size=0.2)"
      ],
      "metadata": {
        "id": "5nK8C3DPYo9P"
      },
      "execution_count": 14,
      "outputs": []
    },
    {
      "cell_type": "markdown",
      "source": [
        "# Carrega o BERT preprocessor e encoder\n",
        "O modelo BERT (Bidirectional Encoder Representations from Transformers) é um modelo de linguagem pré-treinado desenvolvido pelo Google que possui uma arquitetura baseada em transformers. No escopo desse trabalho o BERT foi utilizado para classificação de texto."
      ],
      "metadata": {
        "id": "wsggmXbMF9Tp"
      }
    },
    {
      "cell_type": "code",
      "source": [
        "bert_preprocess = hub.KerasLayer(\"https://tfhub.dev/tensorflow/bert_en_uncased_preprocess/3\")\n",
        "bert_encoder = hub.KerasLayer(\"https://tfhub.dev/tensorflow/bert_en_uncased_L-12_H-768_A-12/4\")"
      ],
      "metadata": {
        "id": "gPxWP4eVZPYN"
      },
      "execution_count": 15,
      "outputs": []
    },
    {
      "cell_type": "code",
      "source": [
        "def get_sentense_embeding(sentences):\n",
        "    preprocesed_text=bert_preprocess(sentences)\n",
        "    return bert_encoder(preprocesed_text)['pooled_output']\n",
        "get_sentense_embeding([\n",
        "    df_bin.body[5],df_bin.body[1]\n",
        "])"
      ],
      "metadata": {
        "colab": {
          "base_uri": "https://localhost:8080/"
        },
        "id": "mRhbQ5M-ZYa5",
        "outputId": "f2dd038d-68da-48c3-9914-b3a7223f7b42"
      },
      "execution_count": 16,
      "outputs": [
        {
          "output_type": "execute_result",
          "data": {
            "text/plain": [
              "<tf.Tensor: shape=(2, 768), dtype=float32, numpy=\n",
              "array([[-0.66974694, -0.55856156, -0.9775242 , ..., -0.939019  ,\n",
              "        -0.6770846 ,  0.6674904 ],\n",
              "       [-0.78146726, -0.6098954 , -0.9507825 , ..., -0.92656064,\n",
              "        -0.7495821 ,  0.5948985 ]], dtype=float32)>"
            ]
          },
          "metadata": {},
          "execution_count": 16
        }
      ]
    },
    {
      "cell_type": "code",
      "source": [
        "#1 neuronio de saída com ativação sigmoid\n",
        "text_input=tf.keras.layers.Input(shape=(),dtype=tf.string,name='text')\n",
        "preprocessed_text=bert_preprocess(text_input)\n",
        "outputs=bert_encoder(preprocessed_text)\n",
        "l=tf.keras.layers.Dropout(0.1,name='dropout')(outputs['pooled_output'])\n",
        "l=tf.keras.layers.Dense(1,activation='sigmoid',name='output')(l)\n",
        "model_bin=tf.keras.Model(inputs=[text_input],outputs=[l])\n",
        "\n",
        "\n",
        "#Alterado para considerar as 5 classses e ativação softmax\n",
        "text_input=tf.keras.layers.Input(shape=(),dtype=tf.string,name='text')\n",
        "preprocessed_text=bert_preprocess(text_input)\n",
        "outputs=bert_encoder(preprocessed_text)\n",
        "l=tf.keras.layers.Dropout(0.1,name='dropout')(outputs['pooled_output'])\n",
        "l=tf.keras.layers.Dense(5,activation='softmax',name='output')(l)\n",
        "model_mult=tf.keras.Model(inputs=[text_input],outputs=[l])"
      ],
      "metadata": {
        "id": "NS4Lw_lwZZT_"
      },
      "execution_count": 17,
      "outputs": []
    },
    {
      "cell_type": "code",
      "source": [
        "model_bin.summary()"
      ],
      "metadata": {
        "colab": {
          "base_uri": "https://localhost:8080/"
        },
        "id": "ecLuFW2-ZcEV",
        "outputId": "f0079430-7404-4266-aa76-b662b80e8663"
      },
      "execution_count": 18,
      "outputs": [
        {
          "output_type": "stream",
          "name": "stdout",
          "text": [
            "Model: \"model\"\n",
            "__________________________________________________________________________________________________\n",
            " Layer (type)                Output Shape                 Param #   Connected to                  \n",
            "==================================================================================================\n",
            " text (InputLayer)           [(None,)]                    0         []                            \n",
            "                                                                                                  \n",
            " keras_layer (KerasLayer)    {'input_mask': (None, 128)   0         ['text[0][0]']                \n",
            "                             , 'input_word_ids': (None,                                           \n",
            "                              128),                                                               \n",
            "                              'input_type_ids': (None,                                            \n",
            "                             128)}                                                                \n",
            "                                                                                                  \n",
            " keras_layer_1 (KerasLayer)  {'default': (None, 768),     1094822   ['keras_layer[0][0]',         \n",
            "                              'encoder_outputs': [(None   41         'keras_layer[0][1]',         \n",
            "                             , 128, 768),                            'keras_layer[0][2]']         \n",
            "                              (None, 128, 768),                                                   \n",
            "                              (None, 128, 768),                                                   \n",
            "                              (None, 128, 768),                                                   \n",
            "                              (None, 128, 768),                                                   \n",
            "                              (None, 128, 768),                                                   \n",
            "                              (None, 128, 768),                                                   \n",
            "                              (None, 128, 768),                                                   \n",
            "                              (None, 128, 768),                                                   \n",
            "                              (None, 128, 768),                                                   \n",
            "                              (None, 128, 768),                                                   \n",
            "                              (None, 128, 768)],                                                  \n",
            "                              'sequence_output': (None,                                           \n",
            "                              128, 768),                                                          \n",
            "                              'pooled_output': (None, 7                                           \n",
            "                             68)}                                                                 \n",
            "                                                                                                  \n",
            " dropout (Dropout)           (None, 768)                  0         ['keras_layer_1[0][13]']      \n",
            "                                                                                                  \n",
            " output (Dense)              (None, 1)                    769       ['dropout[0][0]']             \n",
            "                                                                                                  \n",
            "==================================================================================================\n",
            "Total params: 109483010 (417.64 MB)\n",
            "Trainable params: 769 (3.00 KB)\n",
            "Non-trainable params: 109482241 (417.64 MB)\n",
            "__________________________________________________________________________________________________\n"
          ]
        }
      ]
    },
    {
      "cell_type": "code",
      "source": [
        "METRICS_BIN=[\n",
        "    tf.keras.metrics.BinaryAccuracy(name='accuracy'),\n",
        "    tf.keras.metrics.Precision(name='precision'),\n",
        "    tf.keras.metrics.Recall(name='recall')\n",
        "]\n",
        "\n",
        "METRICS_MULT=[\n",
        "    tf.keras.metrics.CategoricalAccuracy(name='accuracy'),\n",
        "    tf.keras.metrics.Precision(name='precision'),\n",
        "    tf.keras.metrics.Recall(name='recall')\n",
        "]\n",
        "\n",
        "model_mult.compile(optimizer='adam',loss='categorical_crossentropy',metrics=METRICS_MULT)\n",
        "model_bin.compile(optimizer='adam',loss='binary_crossentropy',metrics=METRICS_BIN)"
      ],
      "metadata": {
        "id": "WA5JyZcBdZO-"
      },
      "execution_count": 19,
      "outputs": []
    },
    {
      "cell_type": "code",
      "source": [
        "history = model_bin.fit(X_train,y_train,epochs=10)"
      ],
      "metadata": {
        "colab": {
          "base_uri": "https://localhost:8080/"
        },
        "id": "0RLbNJlhdgd6",
        "outputId": "b85589f5-f2ac-4e7f-b5c0-42d2945de358"
      },
      "execution_count": 20,
      "outputs": [
        {
          "output_type": "stream",
          "name": "stdout",
          "text": [
            "Epoch 1/10\n",
            "82/82 [==============================] - 34s 301ms/step - loss: 0.6112 - accuracy: 0.7156 - precision: 0.7232 - recall: 0.9840\n",
            "Epoch 2/10\n",
            "82/82 [==============================] - 25s 309ms/step - loss: 0.6071 - accuracy: 0.7218 - precision: 0.7244 - recall: 0.9941\n",
            "Epoch 3/10\n",
            "82/82 [==============================] - 26s 321ms/step - loss: 0.6037 - accuracy: 0.7229 - precision: 0.7251 - recall: 0.9947\n",
            "Epoch 4/10\n",
            "82/82 [==============================] - 28s 336ms/step - loss: 0.6041 - accuracy: 0.7222 - precision: 0.7257 - recall: 0.9910\n",
            "Epoch 5/10\n",
            "82/82 [==============================] - 27s 333ms/step - loss: 0.5983 - accuracy: 0.7195 - precision: 0.7243 - recall: 0.9894\n",
            "Epoch 6/10\n",
            "82/82 [==============================] - 27s 324ms/step - loss: 0.5962 - accuracy: 0.7256 - precision: 0.7262 - recall: 0.9973\n",
            "Epoch 7/10\n",
            "82/82 [==============================] - 27s 328ms/step - loss: 0.6070 - accuracy: 0.7168 - precision: 0.7244 - recall: 0.9830\n",
            "Epoch 8/10\n",
            "82/82 [==============================] - 27s 331ms/step - loss: 0.6012 - accuracy: 0.7241 - precision: 0.7265 - recall: 0.9931\n",
            "Epoch 9/10\n",
            "82/82 [==============================] - 27s 330ms/step - loss: 0.5984 - accuracy: 0.7237 - precision: 0.7253 - recall: 0.9957\n",
            "Epoch 10/10\n",
            "82/82 [==============================] - 27s 329ms/step - loss: 0.6065 - accuracy: 0.7156 - precision: 0.7234 - recall: 0.9835\n"
          ]
        }
      ]
    },
    {
      "cell_type": "code",
      "source": [
        "#Converta os rótulos de classe em codificação one-hot\n",
        "t_train_adjusted = t_train - 1\n",
        "t_train_one_hot = tf.keras.utils.to_categorical(t_train_adjusted, num_classes=5)\n",
        "#print(t_train_one_hot)\n",
        "\n",
        "history_mult = model_mult.fit(R_train,t_train_one_hot,epochs=10)"
      ],
      "metadata": {
        "colab": {
          "base_uri": "https://localhost:8080/"
        },
        "id": "eEgVP7m-fCDd",
        "outputId": "e67ab689-93c8-47eb-df82-17bd7cc16c48"
      },
      "execution_count": 21,
      "outputs": [
        {
          "output_type": "stream",
          "name": "stdout",
          "text": [
            "Epoch 1/10\n",
            "89/89 [==============================] - 32s 332ms/step - loss: 1.3327 - accuracy: 0.5081 - precision: 0.5720 - recall: 0.3426\n",
            "Epoch 2/10\n",
            "89/89 [==============================] - 29s 331ms/step - loss: 1.2660 - accuracy: 0.5389 - precision: 0.6217 - recall: 0.3702\n",
            "Epoch 3/10\n",
            "89/89 [==============================] - 29s 330ms/step - loss: 1.2332 - accuracy: 0.5580 - precision: 0.6475 - recall: 0.3819\n",
            "Epoch 4/10\n",
            "89/89 [==============================] - 29s 329ms/step - loss: 1.1969 - accuracy: 0.5679 - precision: 0.6785 - recall: 0.4052\n",
            "Epoch 5/10\n",
            "89/89 [==============================] - 29s 328ms/step - loss: 1.1801 - accuracy: 0.5778 - precision: 0.6821 - recall: 0.4127\n",
            "Epoch 6/10\n",
            "89/89 [==============================] - 29s 330ms/step - loss: 1.1592 - accuracy: 0.5817 - precision: 0.7073 - recall: 0.4264\n",
            "Epoch 7/10\n",
            "89/89 [==============================] - 30s 332ms/step - loss: 1.1366 - accuracy: 0.5930 - precision: 0.7035 - recall: 0.4346\n",
            "Epoch 8/10\n",
            "89/89 [==============================] - 29s 329ms/step - loss: 1.1349 - accuracy: 0.5873 - precision: 0.7047 - recall: 0.4438\n",
            "Epoch 9/10\n",
            "89/89 [==============================] - 29s 330ms/step - loss: 1.1185 - accuracy: 0.5941 - precision: 0.7178 - recall: 0.4388\n",
            "Epoch 10/10\n",
            "89/89 [==============================] - 29s 331ms/step - loss: 1.1280 - accuracy: 0.5937 - precision: 0.7109 - recall: 0.4356\n"
          ]
        }
      ]
    },
    {
      "cell_type": "code",
      "source": [
        "import matplotlib.pyplot as plt\n",
        "\n",
        "# Criação da grade de subplots\n",
        "fig, axes = plt.subplots(1, 2, figsize=(10, 5))\n",
        "\n",
        "# Obtendo os scores de treinamento do histórico\n",
        "train_scores_mult = history_mult.history['accuracy']\n",
        "train_scores = history.history['accuracy']\n",
        "\n",
        "# Plotando a curva de aprendizado\n",
        "axes[0].plot(range(1, 11), train_scores, label='Treinamento')\n",
        "axes[0].set_xlabel('Época')\n",
        "axes[0].set_ylabel('Acurácia')\n",
        "axes[0].set_title('Curva de Aprendizado Binário')\n",
        "axes[0].legend()\n",
        "\n",
        "\n",
        "# Plotando a curva de aprendizado\n",
        "axes[1].plot(range(1, 11), train_scores_mult, label='Treinamento')\n",
        "axes[1].set_xlabel('Época')\n",
        "axes[1].set_ylabel('Acurácia')\n",
        "axes[1].set_title('Curva de Aprendizado 5 Classes')\n",
        "axes[1].legend()\n",
        "\n",
        "plt.show()\n"
      ],
      "metadata": {
        "colab": {
          "base_uri": "https://localhost:8080/",
          "height": 490
        },
        "id": "beLde0-WJQAl",
        "outputId": "53d07f0b-cc54-4427-df0d-cb3a47a52707"
      },
      "execution_count": 22,
      "outputs": [
        {
          "output_type": "display_data",
          "data": {
            "text/plain": [
              "<Figure size 1000x500 with 2 Axes>"
            ],
            "image/png": "[encoded data removed]"
          },
          "metadata": {}
        }
      ]
    },
    {
      "cell_type": "code",
      "source": [
        "model_bin.evaluate(X_test,y_test)"
      ],
      "metadata": {
        "colab": {
          "base_uri": "https://localhost:8080/"
        },
        "id": "swm5kHhJhLd3",
        "outputId": "79ea40aa-c743-44b1-c23a-94bbb51e3a2c"
      },
      "execution_count": 23,
      "outputs": [
        {
          "output_type": "stream",
          "name": "stdout",
          "text": [
            "21/21 [==============================] - 8s 311ms/step - loss: 0.5826 - accuracy: 0.7458 - precision: 0.7458 - recall: 1.0000\n"
          ]
        },
        {
          "output_type": "execute_result",
          "data": {
            "text/plain": [
              "[0.5825844407081604, 0.7457627058029175, 0.7457627058029175, 1.0]"
            ]
          },
          "metadata": {},
          "execution_count": 23
        }
      ]
    },
    {
      "cell_type": "code",
      "source": [
        "#Converta os rótulos de classe em codificação one-hot\n",
        "t_test_adjusted = t_test - 1\n",
        "t_test_one_hot = tf.keras.utils.to_categorical(t_test_adjusted, num_classes=5)\n",
        "\n",
        "model_mult.evaluate(R_test,t_test_one_hot)"
      ],
      "metadata": {
        "colab": {
          "base_uri": "https://localhost:8080/"
        },
        "id": "UXM5HqdUmcNx",
        "outputId": "67429447-d315-4810-b151-5da5579111fa"
      },
      "execution_count": 24,
      "outputs": [
        {
          "output_type": "stream",
          "name": "stdout",
          "text": [
            "23/23 [==============================] - 8s 317ms/step - loss: 1.1194 - accuracy: 0.5955 - precision: 0.7087 - recall: 0.4371\n"
          ]
        },
        {
          "output_type": "execute_result",
          "data": {
            "text/plain": [
              "[1.1193770170211792,\n",
              " 0.5954738259315491,\n",
              " 0.7087156176567078,\n",
              " 0.4370580017566681]"
            ]
          },
          "metadata": {},
          "execution_count": 24
        }
      ]
    },
    {
      "cell_type": "code",
      "source": [
        "y_pred=model_bin.predict(X_test)\n",
        "y_pred=y_pred.flatten()"
      ],
      "metadata": {
        "colab": {
          "base_uri": "https://localhost:8080/"
        },
        "id": "Z8JrJ3oQhkOY",
        "outputId": "483867e5-0316-482b-eec6-b3dfd3f3e49d"
      },
      "execution_count": 25,
      "outputs": [
        {
          "output_type": "stream",
          "name": "stdout",
          "text": [
            "21/21 [==============================] - 7s 328ms/step\n"
          ]
        }
      ]
    },
    {
      "cell_type": "code",
      "source": [
        "t_pred=model_mult.predict(R_test)\n",
        "#t_pred=y_pred.flatten()\n",
        "print(t_pred)"
      ],
      "metadata": {
        "colab": {
          "base_uri": "https://localhost:8080/"
        },
        "id": "46-iySJjrGTM",
        "outputId": "e6f612f3-210c-490a-95c4-7798ba8816ae"
      },
      "execution_count": 26,
      "outputs": [
        {
          "output_type": "stream",
          "name": "stdout",
          "text": [
            "23/23 [==============================] - 8s 336ms/step\n",
            "[[0.10559296 0.05304169 0.08610398 0.09440609 0.6608553 ]\n",
            " [0.16845578 0.07565712 0.14355308 0.12434046 0.48799354]\n",
            " [0.19136614 0.08221278 0.13431507 0.18949927 0.40260676]\n",
            " ...\n",
            " [0.07178751 0.02975103 0.02068749 0.07668535 0.8010887 ]\n",
            " [0.06429652 0.0315055  0.05427394 0.09464655 0.7552775 ]\n",
            " [0.02248754 0.0155963  0.03893264 0.09451699 0.82846653]]\n"
          ]
        }
      ]
    },
    {
      "cell_type": "code",
      "source": [
        "t_pred_classes = np.argmax(t_pred, axis=1)\n",
        "#print(t_pred_classes)"
      ],
      "metadata": {
        "id": "YjnrVpXKpJOE"
      },
      "execution_count": 27,
      "outputs": []
    },
    {
      "cell_type": "code",
      "source": [
        "y_pred=np.where(y_pred>0.5,1,0)\n",
        "#y_pred"
      ],
      "metadata": {
        "id": "uBZe1GxliAuy"
      },
      "execution_count": 28,
      "outputs": []
    },
    {
      "cell_type": "code",
      "source": [
        "from sklearn.metrics import confusion_matrix, classification_report\n",
        "cm=confusion_matrix(y_test,y_pred)\n",
        "t_test = t_test - 1\n",
        "cm_mult=confusion_matrix(t_test,t_pred_classes)"
      ],
      "metadata": {
        "id": "3NFlDhDIiM2e"
      },
      "execution_count": 29,
      "outputs": []
    },
    {
      "cell_type": "code",
      "source": [
        "from matplotlib import pyplot as plt\n",
        "import seaborn as sns\n",
        "sns.heatmap(cm_mult,annot=True,fmt='d')\n",
        "\n",
        "plt.xlabel(\"Predicted\")\n",
        "plt.ylabel(\"Truth\")"
      ],
      "metadata": {
        "colab": {
          "base_uri": "https://localhost:8080/",
          "height": 471
        },
        "id": "oIvYSiQ4tDaX",
        "outputId": "89c6c052-bfa1-4c44-aa42-c0d69bb3f8fc"
      },
      "execution_count": 30,
      "outputs": [
        {
          "output_type": "execute_result",
          "data": {
            "text/plain": [
              "Text(50.722222222222214, 0.5, 'Truth')"
            ]
          },
          "metadata": {},
          "execution_count": 30
        },
        {
          "output_type": "display_data",
          "data": {
            "text/plain": [
              "<Figure size 640x480 with 2 Axes>"
            ],
            "image/png": "[encoded data removed]"
          },
          "metadata": {}
        }
      ]
    },
    {
      "cell_type": "code",
      "source": [
        "print(classification_report(t_test,t_pred_classes,zero_division=1))"
      ],
      "metadata": {
        "colab": {
          "base_uri": "https://localhost:8080/"
        },
        "id": "usEJmR-AcksZ",
        "outputId": "214d665e-f9bd-494a-c180-1dffdd96f5f8"
      },
      "execution_count": 31,
      "outputs": [
        {
          "output_type": "stream",
          "name": "stdout",
          "text": [
            "              precision    recall  f1-score   support\n",
            "\n",
            "         0.0       0.64      0.51      0.57       137\n",
            "         1.0       0.00      0.00      0.00        49\n",
            "         2.0       1.00      0.00      0.00        61\n",
            "         3.0       1.00      0.00      0.00       105\n",
            "         4.0       0.59      0.99      0.74       355\n",
            "\n",
            "    accuracy                           0.60       707\n",
            "   macro avg       0.65      0.30      0.26       707\n",
            "weighted avg       0.65      0.60      0.48       707\n",
            "\n"
          ]
        }
      ]
    },
    {
      "cell_type": "code",
      "source": [
        "from matplotlib import pyplot as plt\n",
        "import seaborn as sns\n",
        "sns.heatmap(cm,annot=True,fmt='d')\n",
        "\n",
        "plt.xlabel(\"Predicted\")\n",
        "plt.ylabel(\"Truth\")"
      ],
      "metadata": {
        "id": "UQzllGjjtXrV",
        "outputId": "e6f562c6-5ac3-49cc-e9fd-59300bef0811",
        "colab": {
          "base_uri": "https://localhost:8080/",
          "height": 466
        }
      },
      "execution_count": 32,
      "outputs": [
        {
          "output_type": "execute_result",
          "data": {
            "text/plain": [
              "Text(50.722222222222214, 0.5, 'Truth')"
            ]
          },
          "metadata": {},
          "execution_count": 32
        },
        {
          "output_type": "display_data",
          "data": {
            "text/plain": [
              "<Figure size 640x480 with 2 Axes>"
            ],
            "image/png": "[encoded data removed]"
          },
          "metadata": {}
        }
      ]
    },
    {
      "cell_type": "code",
      "source": [
        "print(classification_report(y_test,y_pred))"
      ],
      "metadata": {
        "id": "k2rQUS7Ptdpo",
        "outputId": "569bde51-ac3e-448e-a8ff-636d76c0a8c2",
        "colab": {
          "base_uri": "https://localhost:8080/"
        }
      },
      "execution_count": 33,
      "outputs": [
        {
          "output_type": "stream",
          "name": "stdout",
          "text": [
            "              precision    recall  f1-score   support\n",
            "\n",
            "         0.0       0.00      0.00      0.00       165\n",
            "         1.0       0.75      1.00      0.85       484\n",
            "\n",
            "    accuracy                           0.75       649\n",
            "   macro avg       0.37      0.50      0.43       649\n",
            "weighted avg       0.56      0.75      0.64       649\n",
            "\n"
          ]
        }
      ]
    },
    {
      "cell_type": "code",
      "source": [
        "from sklearn.metrics import roc_curve, auc\n",
        "import matplotlib.pyplot as plt"
      ],
      "metadata": {
        "id": "maI39LSwnwrh"
      },
      "execution_count": 34,
      "outputs": []
    },
    {
      "cell_type": "code",
      "source": [
        "fpr, tpr, thresholds = roc_curve(y_test,y_pred)\n",
        "roc_auc = auc(fpr, tpr)\n",
        "\n",
        "# Plotar a curva ROC\n",
        "plt.plot(fpr, tpr, label='Curva ROC (AUC = %0.2f)' % roc_auc)\n",
        "plt.plot([0, 1], [0, 1], 'k--')\n",
        "plt.xlim([0.0, 1.0])\n",
        "plt.ylim([0.0, 1.05])\n",
        "plt.xlabel('Taxa de Falsos Positivos')\n",
        "plt.ylabel('Taxa de Verdadeiros Positivos')\n",
        "plt.title('Curva ROC')\n",
        "plt.legend(loc=\"lower right\")\n",
        "plt.show()\n",
        "\n",
        "# Imprimir o valor da AUC\n",
        "print('Área sob a curva (AUC):', roc_auc)"
      ],
      "metadata": {
        "colab": {
          "base_uri": "https://localhost:8080/",
          "height": 489
        },
        "id": "egCv2VNJn1hI",
        "outputId": "24867f66-9aa0-412d-e222-e875bce6d082"
      },
      "execution_count": 35,
      "outputs": [
        {
          "output_type": "display_data",
          "data": {
            "text/plain": [
              "<Figure size 640x480 with 1 Axes>"
            ],
            "image/png": "[encoded data removed]"
          },
          "metadata": {}
        },
        {
          "output_type": "stream",
          "name": "stdout",
          "text": [
            "Área sob a curva (AUC): 0.5\n"
          ]
        }
      ]
    }
  ]
}